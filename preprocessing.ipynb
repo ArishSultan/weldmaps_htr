{
 "cells": [
  {
   "cell_type": "code",
   "execution_count": 5,
   "outputs": [],
   "source": [
    "import os\n",
    "import ocr\n",
    "import fitz\n",
    "import mimetypes\n",
    "import matplotlib.pyplot as plt\n",
    "import cv2 as cv\n",
    "import numpy as np"
   ],
   "metadata": {
    "collapsed": false,
    "pycharm": {
     "name": "#%%\n"
    }
   }
  },
  {
   "cell_type": "code",
   "execution_count": 16,
   "outputs": [],
   "source": [
    "def _pixmap_to_numpy(pixmap):\n",
    "    im = np.frombuffer(pixmap.samples, dtype=np.uint8).reshape(pixmap.h, pixmap.w, pixmap.n)\n",
    "    return np.ascontiguousarray(im[..., [2, 1, 0]])\n",
    "\n",
    "\n",
    "def extract_page(fp: str, pn: int = None):\n",
    "    if not os.path.exists(fp):\n",
    "        raise \"Provided file %s does not exist\" % fp\n",
    "\n",
    "    if not mimetypes.guess_type(fp)[0] == \"application/pdf\":\n",
    "        raise \"Provided file %s is not a valid PDF\" % fp\n",
    "\n",
    "    document = fitz.open(fp)\n",
    "    if pn is None:\n",
    "        for page in document:\n",
    "            yield _pixmap_to_numpy(page.get_pixmap(matrix=fitz.Matrix(3, 3)))\n",
    "    else:\n",
    "        yield _pixmap_to_numpy(document.load_page(pn).get_pixmap(matrix=fitz.Matrix(3, 3)))\n",
    "\n",
    "\n",
    "def show_image(image):\n",
    "    cv.namedWindow(\"win\", cv.WINDOW_FREERATIO)\n",
    "    cv.imshow(\"win\", image)\n",
    "    cv.waitKey(0)\n",
    "    cv.destroyAllWindows()"
   ],
   "metadata": {
    "collapsed": false,
    "pycharm": {
     "name": "#%%\n"
    }
   }
  },
  {
   "cell_type": "code",
   "execution_count": null,
   "outputs": [],
   "source": [
    "for page in extract_page(r\"C:\\Users\\arish\\OneDrive\\Desktop\\Monsanto.pdf\"):\n",
    "    # Write image to an output directory\n",
    "    pass"
   ],
   "metadata": {
    "collapsed": false,
    "pycharm": {
     "name": "#%%\n"
    }
   }
  },
  {
   "cell_type": "code",
   "execution_count": null,
   "outputs": [],
   "source": [
    "def crop_required_portions(img):\n",
    "    g_img = cv.cvtColor(img, cv.COLOR_BGR2GRAY)\n",
    "    thresh = cv.threshold(g_img, 0, 255, cv.THRESH_BINARY_INV + cv.THRESH_OTSU)[1]\n",
    "\n",
    "    v_contours = _find_contours(thresh, (1, 10))\n",
    "    h_contours = _find_contours(thresh, (10, 2))\n",
    "\n",
    "    # v_lines = sorted(\n",
    "    #     [_max(v_contours, 3), _max(v_contours, 3), _max(v_contours, 3)],\n",
    "    #     key=lambda x: x[0][0],\n",
    "    # )\n",
    "    #\n",
    "    # h_lines = sorted(\n",
    "    #     [_max(h_contours, 2), _max(h_contours, 2), _max(h_contours, 2)],\n",
    "    #     key=lambda x: x[0][1],\n",
    "    # )\n",
    "    #\n",
    "    # for lines in v_lines + h_lines:\n",
    "    #     cv2.drawContours(img, [lines[1]], 0, (255, 255, 255), 3)\n",
    "\n",
    "    # return \\\n",
    "    #     img[h_lines[1][0][1]:h_lines[2][0][1], v_lines[0][0][0]:v_lines[2][0][0]], \\\n",
    "    #     img[h_lines[0][0][1]:h_lines[1][0][1], v_lines[1][0][0]:v_lines[2][0][0]]\n",
    "\n",
    "# def _find_contours(_thresh, _size):\n",
    "#     contours = cv.findContours(\n",
    "#         cv.morphologyEx(\n",
    "#             _thresh,\n",
    "#             cv.MORPH_OPEN,\n",
    "#             cv.getStructuringElement(cv.MORPH_RECT, _size),\n",
    "#             iterations=2\n",
    "#         ),\n",
    "#         cv.RETR_EXTERNAL,\n",
    "#         cv.CHAIN_APPROX_SIMPLE\n",
    "#     )\n",
    "#\n",
    "#     contours = contours[0] if len(contours) == 2 else contours[1]\n",
    "#\n",
    "#     lines = []\n",
    "#     for c in contours:\n",
    "#         lines.append((cv2.boundingRect(c), c))\n",
    "#\n",
    "#     return lines"
   ],
   "metadata": {
    "collapsed": false,
    "pycharm": {
     "name": "#%%\n"
    }
   }
  },
  {
   "cell_type": "code",
   "execution_count": null,
   "outputs": [],
   "source": [],
   "metadata": {
    "collapsed": false,
    "pycharm": {
     "name": "#%%\n"
    }
   }
  },
  {
   "cell_type": "code",
   "execution_count": null,
   "outputs": [],
   "source": [
    "image = list(extract_page(r\"C:\\Users\\arish\\OneDrive\\Desktop\\Monsanto.pdf\", 0))[0]"
   ],
   "metadata": {
    "collapsed": false,
    "pycharm": {
     "name": "#%%\n",
     "is_executing": true
    }
   }
  },
  {
   "cell_type": "code",
   "execution_count": 21,
   "outputs": [],
   "source": [
    "# Greyscale Copy of image\n",
    "g_img = cv.cvtColor(image, cv.COLOR_BGR2GRAY)\n",
    "\n",
    "# Convert to Binary image, ignore the first value of tuple returned from\n",
    "# cv.threshold since it represents the threshold number.\n",
    "b_img = cv.threshold(g_img, 0, 255, cv.THRESH_BINARY_INV + cv.THRESH_OTSU)[1]"
   ],
   "metadata": {
    "collapsed": false,
    "pycharm": {
     "name": "#%%\n"
    }
   }
  },
  {
   "cell_type": "code",
   "execution_count": 79,
   "outputs": [
    {
     "data": {
      "text/plain": "(3500, 2298, 3, 31)"
     },
     "execution_count": 79,
     "metadata": {},
     "output_type": "execute_result"
    }
   ],
   "source": [
    "temp_img = image.copy()\n",
    "\n",
    "# morph_kernel_shape = (10, 2)\n",
    "morph_kernel_shape = (2, 10)\n",
    "\n",
    "morph_kernel = cv.getStructuringElement(cv.MORPH_RECT, morph_kernel_shape)\n",
    "morph_img = cv.morphologyEx(b_img, cv.MORPH_OPEN, morph_kernel, iterations=2)\n",
    "\n",
    "# Save this image\n",
    "# show_image(morph_img)\n",
    "\n",
    "contours = cv.findContours(morph_img, cv.RETR_EXTERNAL, cv.CHAIN_APPROX_SIMPLE)\n",
    "contours = list(contours[0] if len(contours) == 2 else contours[1])\n",
    "\n",
    "cv.boundingRect(contours[0])\n",
    "# show_image(temp_img)"
   ],
   "metadata": {
    "collapsed": false,
    "pycharm": {
     "name": "#%%\n"
    }
   }
  },
  {
   "cell_type": "code",
   "execution_count": 73,
   "outputs": [],
   "source": [
    "def horizontal_lines(contours):\n",
    "    for c in contours:\n",
    "        x, y, w, h = cv.boundingRect(c)\n",
    "\n",
    "        yield c, (x, y, w, h), w\n",
    "\n",
    "\n",
    "def vertical_lines(contours):\n",
    "    bounds = []\n",
    "    height = []\n",
    "\n",
    "    for c in contours:\n",
    "        x, y, w, h = cv.boundingRect(c)\n",
    "        bounds.append((x, y, w, h))\n",
    "        height.append(h)\n",
    "\n",
    "    return contours, bounds, height"
   ],
   "metadata": {
    "collapsed": false,
    "pycharm": {
     "name": "#%%\n"
    }
   }
  },
  {
   "cell_type": "code",
   "execution_count": 74,
   "outputs": [],
   "source": [
    "cnts, bounds, height = vertical_lines(contours)\n",
    "\n",
    "# 3 Max values\n",
    "first_index = np.argmax(height)\n",
    "first = cnts[first_index]\n",
    "del cnts[first_index]\n",
    "del bounds[first_index]\n",
    "del height[first_index]\n",
    "\n",
    "second_index = np.argmax(height)\n",
    "second = cnts[second_index]\n",
    "del cnts[second_index]\n",
    "del bounds[second_index]\n",
    "del height[second_index]\n",
    "\n",
    "third_index = np.argmax(height)\n",
    "third = cnts[third_index]\n",
    "del cnts[third_index]\n",
    "del bounds[third_index]\n",
    "del height[third_index]"
   ],
   "metadata": {
    "collapsed": false,
    "pycharm": {
     "name": "#%%\n"
    }
   }
  },
  {
   "cell_type": "code",
   "execution_count": 77,
   "outputs": [],
   "source": [
    "cv.drawContours(temp_img, [first, second, third], -1, (0, 0, 255), 5)\n",
    "show_image(temp_img)"
   ],
   "metadata": {
    "collapsed": false,
    "pycharm": {
     "name": "#%%\n"
    }
   }
  },
  {
   "cell_type": "code",
   "execution_count": null,
   "outputs": [],
   "source": [],
   "metadata": {
    "collapsed": false,
    "pycharm": {
     "name": "#%%\n"
    }
   }
  }
 ],
 "metadata": {
  "kernelspec": {
   "display_name": "Python 3",
   "language": "python",
   "name": "python3"
  },
  "language_info": {
   "codemirror_mode": {
    "name": "ipython",
    "version": 2
   },
   "file_extension": ".py",
   "mimetype": "text/x-python",
   "name": "python",
   "nbconvert_exporter": "python",
   "pygments_lexer": "ipython2",
   "version": "2.7.6"
  }
 },
 "nbformat": 4,
 "nbformat_minor": 0
}